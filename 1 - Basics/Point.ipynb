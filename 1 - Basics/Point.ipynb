{
 "cells": [
  {
   "cell_type": "code",
   "execution_count": 1,
   "id": "7f00f1b0-bf00-417f-b3cb-5c7236e2a655",
   "metadata": {},
   "outputs": [],
   "source": [
    "from shapely.geometry import Point"
   ]
  },
  {
   "cell_type": "markdown",
   "id": "6236d9b4-ba48-486a-a99f-3aaf2261330d",
   "metadata": {},
   "source": [
    "### 2D and 3D points"
   ]
  },
  {
   "cell_type": "code",
   "execution_count": 12,
   "id": "751cc41b-6750-42ab-9806-f918026a7165",
   "metadata": {},
   "outputs": [
    {
     "data": {
      "image/svg+xml": [
       "<svg xmlns=\"http://www.w3.org/2000/svg\" xmlns:xlink=\"http://www.w3.org/1999/xlink\" width=\"100.0\" height=\"100.0\" viewBox=\"0.19999999999999996 2.2 2.0 2.0\" preserveAspectRatio=\"xMinYMin meet\"><g transform=\"matrix(1,0,0,-1,0,6.4)\"><circle cx=\"1.2\" cy=\"3.2\" r=\"0.06\" stroke=\"#555555\" stroke-width=\"0.02\" fill=\"#66cc99\" opacity=\"0.6\" /></g></svg>"
      ],
      "text/plain": [
       "<POINT (1.2 3.2)>"
      ]
     },
     "execution_count": 12,
     "metadata": {},
     "output_type": "execute_result"
    }
   ],
   "source": [
    "p1_2D = Point(1.2, 3.2)\n",
    "p_3D = Point(1.1, -2, 3.4)\n",
    "\n",
    "p_2D"
   ]
  },
  {
   "cell_type": "markdown",
   "id": "eacdac4a-6f1e-4cac-b017-d6ac7525df8a",
   "metadata": {},
   "source": [
    "***So, it even gives us a graphical representation.***"
   ]
  },
  {
   "cell_type": "code",
   "execution_count": 13,
   "id": "9d920ffc-c0ef-47cd-ac4e-707bf91c1afc",
   "metadata": {},
   "outputs": [
    {
     "name": "stdout",
     "output_type": "stream",
     "text": [
      "POINT (1.2 3.2)\n",
      "[(1.2, 3.2)]\n"
     ]
    }
   ],
   "source": [
    "print(p1_2D)\n",
    "print(list(p1_2D.coords))"
   ]
  },
  {
   "cell_type": "markdown",
   "id": "aca53faa-2a17-42d7-ad82-777df1f8535b",
   "metadata": {},
   "source": [
    "⭐ We can also find the cartesian projections."
   ]
  },
  {
   "cell_type": "code",
   "execution_count": 14,
   "id": "b9e2e6a8-7139-42d8-83ee-06257869568a",
   "metadata": {},
   "outputs": [
    {
     "data": {
      "text/plain": [
       "(1.2, 3.2)"
      ]
     },
     "execution_count": 14,
     "metadata": {},
     "output_type": "execute_result"
    }
   ],
   "source": [
    "x = p1_2D.x\n",
    "y = p1_2D.y\n",
    "\n",
    "(x, y)"
   ]
  },
  {
   "cell_type": "markdown",
   "id": "3e824ac4-2de4-4e9c-92b0-452e36b00474",
   "metadata": {},
   "source": [
    "⭐ What more you ask - look here! Even the distance from another point can be found!"
   ]
  },
  {
   "cell_type": "code",
   "execution_count": 17,
   "id": "2596825b-dec3-4a8e-919f-3b9b3f2c0476",
   "metadata": {},
   "outputs": [
    {
     "data": {
      "text/plain": [
       "3.83275357934736"
      ]
     },
     "execution_count": 17,
     "metadata": {},
     "output_type": "execute_result"
    }
   ],
   "source": [
    "p2_2D = Point(2.2, -0.5)\n",
    "\n",
    "dist = p1_2D.distance(p2_2D)\n",
    "dist"
   ]
  }
 ],
 "metadata": {
  "kernelspec": {
   "display_name": "Python 3 (ipykernel)",
   "language": "python",
   "name": "python3"
  },
  "language_info": {
   "codemirror_mode": {
    "name": "ipython",
    "version": 3
   },
   "file_extension": ".py",
   "mimetype": "text/x-python",
   "name": "python",
   "nbconvert_exporter": "python",
   "pygments_lexer": "ipython3",
   "version": "3.11.4"
  }
 },
 "nbformat": 4,
 "nbformat_minor": 5
}
