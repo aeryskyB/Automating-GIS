{
 "cells": [
  {
   "cell_type": "code",
   "execution_count": 1,
   "id": "0801e445-efc4-4b36-8dc0-f61ae57a19c5",
   "metadata": {},
   "outputs": [],
   "source": [
    "from shapely.geometry import LineString"
   ]
  },
  {
   "cell_type": "markdown",
   "id": "f93df2fe-8769-4b0e-9d07-6ccce7064457",
   "metadata": {},
   "source": [
    "### Let us create a simple line"
   ]
  },
  {
   "cell_type": "code",
   "execution_count": 8,
   "id": "02d7ef1d-de01-43de-b0c2-cd8f846dbc52",
   "metadata": {},
   "outputs": [
    {
     "data": {
      "image/svg+xml": [
       "<svg xmlns=\"http://www.w3.org/2000/svg\" xmlns:xlink=\"http://www.w3.org/1999/xlink\" width=\"100.0\" height=\"100.0\" viewBox=\"-0.16 -0.16 3.3200000000000003 4.32\" preserveAspectRatio=\"xMinYMin meet\"><g transform=\"matrix(1,0,0,-1,0,4.0)\"><polyline fill=\"none\" stroke=\"#66cc99\" stroke-width=\"0.0864\" points=\"0.0,0.0 3.0,0.0 0.0,4.0\" opacity=\"0.8\" /></g></svg>"
      ],
      "text/plain": [
       "<LINESTRING (0 0, 3 0, 0 4)>"
      ]
     },
     "execution_count": 8,
     "metadata": {},
     "output_type": "execute_result"
    }
   ],
   "source": [
    "l1 = LineString([[0.0, 0.0], [3.0, 0.0], [0.0, 4.0]])\n",
    "l2 = LineString([[0.0, 0.0, 0.0], [0.0, 3, 4]])\n",
    "\n",
    "l1"
   ]
  },
  {
   "cell_type": "code",
   "execution_count": 4,
   "id": "2f53096a-5650-4d3a-85b8-da6b6c1ea255",
   "metadata": {},
   "outputs": [
    {
     "name": "stdout",
     "output_type": "stream",
     "text": [
      "LINESTRING (0 0, 3 0, 0 4)\n"
     ]
    }
   ],
   "source": [
    "print(l1)"
   ]
  },
  {
   "cell_type": "code",
   "execution_count": 7,
   "id": "4f1e1303-d8a3-4ba1-8cc2-69b5e50274b6",
   "metadata": {},
   "outputs": [
    {
     "data": {
      "text/plain": [
       "[(0.0, 0.0), (3.0, 0.0), (0.0, 4.0)]"
      ]
     },
     "execution_count": 7,
     "metadata": {},
     "output_type": "execute_result"
    }
   ],
   "source": [
    "list(l1.coords)"
   ]
  },
  {
   "cell_type": "markdown",
   "id": "c5284a96-f69f-4476-bd6e-2c82a454ab6e",
   "metadata": {},
   "source": [
    "⭐ We can find the cartesian projections too!"
   ]
  },
  {
   "cell_type": "code",
   "execution_count": 18,
   "id": "6cea85b7-ea12-4ba5-9fa1-ed5ece1ad6df",
   "metadata": {},
   "outputs": [
    {
     "name": "stdout",
     "output_type": "stream",
     "text": [
      "[0.0, 3.0, 0.0]\n",
      "[0.0, 0.0, 4.0]\n"
     ]
    }
   ],
   "source": [
    "ps = l1.xy\n",
    "# however for 3D points no extra z\n",
    "\n",
    "ps_xs = list(ps[0]) # finds only x-coordinates\n",
    "ps_ys = list(ps[1]) # y\n",
    "\n",
    "print(ps_xs)\n",
    "print(ps_ys)"
   ]
  },
  {
   "cell_type": "markdown",
   "id": "f959fb90-e6a5-45c6-a372-2d1340d20693",
   "metadata": {},
   "source": [
    "⭐ And one more interesting thing!"
   ]
  },
  {
   "cell_type": "code",
   "execution_count": 20,
   "id": "c42fe987-f2df-4d9e-9954-c97dfa02f382",
   "metadata": {},
   "outputs": [
    {
     "name": "stdout",
     "output_type": "stream",
     "text": [
      "POINT (1.5 1.25)\n"
     ]
    }
   ],
   "source": [
    "centroid = l1.centroid\n",
    "print(centroid)"
   ]
  }
 ],
 "metadata": {
  "kernelspec": {
   "display_name": "Python 3 (ipykernel)",
   "language": "python",
   "name": "python3"
  },
  "language_info": {
   "codemirror_mode": {
    "name": "ipython",
    "version": 3
   },
   "file_extension": ".py",
   "mimetype": "text/x-python",
   "name": "python",
   "nbconvert_exporter": "python",
   "pygments_lexer": "ipython3",
   "version": "3.11.4"
  }
 },
 "nbformat": 4,
 "nbformat_minor": 5
}
